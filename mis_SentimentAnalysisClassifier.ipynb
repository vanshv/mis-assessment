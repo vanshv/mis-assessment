{
 "cells": [
  {
   "cell_type": "markdown",
   "metadata": {
    "id": "eyuRYyYF2PrH"
   },
   "source": [
    "# Importing data"
   ]
  },
  {
   "cell_type": "code",
   "execution_count": null,
   "metadata": {
    "colab": {
     "base_uri": "https://localhost:8080/"
    },
    "id": "FBuaZw3owvyI",
    "outputId": "e825af6e-9831-4a60-85b0-73ee2e71d006"
   },
   "outputs": [
    {
     "name": "stdout",
     "output_type": "stream",
     "text": [
      "Requirement already satisfied: contractions in /usr/local/lib/python3.10/dist-packages (0.1.73)\n",
      "Requirement already satisfied: textsearch>=0.0.21 in /usr/local/lib/python3.10/dist-packages (from contractions) (0.0.24)\n",
      "Requirement already satisfied: anyascii in /usr/local/lib/python3.10/dist-packages (from textsearch>=0.0.21->contractions) (0.3.2)\n",
      "Requirement already satisfied: pyahocorasick in /usr/local/lib/python3.10/dist-packages (from textsearch>=0.0.21->contractions) (2.1.0)\n"
     ]
    },
    {
     "name": "stderr",
     "output_type": "stream",
     "text": [
      "[nltk_data] Downloading package omw-1.4 to /root/nltk_data...\n",
      "[nltk_data]   Package omw-1.4 is already up-to-date!\n",
      "[nltk_data] Downloading package punkt to /root/nltk_data...\n",
      "[nltk_data]   Package punkt is already up-to-date!\n",
      "[nltk_data] Downloading package wordnet to /root/nltk_data...\n",
      "[nltk_data]   Package wordnet is already up-to-date!\n"
     ]
    }
   ],
   "source": [
    "import pandas as pd\n",
    "import re\n",
    "import nltk\n",
    "!pip install contractions\n",
    "import contractions\n",
    "from nltk.tokenize import RegexpTokenizer\n",
    "from nltk.stem import WordNetLemmatizer\n",
    "from nltk.tokenize import word_tokenize\n",
    "nltk.download('omw-1.4')\n",
    "nltk.download('punkt')\n",
    "nltk.download('wordnet')\n",
    "from sklearn.feature_extraction.text import TfidfVectorizer\n",
    "from sklearn.model_selection import train_test_split\n",
    "from sklearn.linear_model import LinearRegression\n",
    "from scipy.sparse import hstack\n",
    "from wordcloud import WordCloud, STOPWORDS\n",
    "import matplotlib.pyplot as plt"
   ]
  },
  {
   "cell_type": "code",
   "execution_count": null,
   "metadata": {
    "colab": {
     "base_uri": "https://localhost:8080/"
    },
    "id": "MChB9bNQt79T",
    "outputId": "ba4e2751-39e8-44e7-cf95-600a3bf5d848"
   },
   "outputs": [
    {
     "name": "stdout",
     "output_type": "stream",
     "text": [
      "Drive already mounted at /content/drive; to attempt to forcibly remount, call drive.mount(\"/content/drive\", force_remount=True).\n",
      "(12981, 2)\n"
     ]
    }
   ],
   "source": [
    "from google.colab import drive\n",
    "drive.mount('/content/drive')\n",
    "df_train = pd.read_csv(\"/content/drive/MyDrive/mis_assessment/train3.csv\")\n",
    "# df_test = pd.read_csv(\"/content/drive/MyDrive/mis_assessment/test3.csv\")\n",
    "\n",
    "df_train = df_train.rename(columns = {'Text': 'text'})\n",
    "# df_test = df_test.rename(columns = {'Text': 'text'})\n",
    "\n",
    "print(df_test.shape)"
   ]
  },
  {
   "cell_type": "markdown",
   "metadata": {
    "id": "_uajGsns2UGG"
   },
   "source": [
    "# Preprocessing and EDA"
   ]
  },
  {
   "cell_type": "markdown",
   "metadata": {
    "id": "vrVl9ZCB3_s3"
   },
   "source": [
    "## Nan Values and Duplicate Values Removal"
   ]
  },
  {
   "cell_type": "code",
   "execution_count": null,
   "metadata": {
    "colab": {
     "base_uri": "https://localhost:8080/"
    },
    "id": "Hs-9IGmt3-j0",
    "outputId": "b40247a2-36d1-4102-8623-cffc0bb10694"
   },
   "outputs": [
    {
     "name": "stdout",
     "output_type": "stream",
     "text": [
      "Nan Values before removal 17397, Duplicate Values before removal 8696\n",
      "Nan Values before removal 0, Duplicate Values after removal 0)\n"
     ]
    }
   ],
   "source": [
    "print(f\"Nan Values before removal {df_train.isna().sum().sum()}, Duplicate Values before removal {df_train.duplicated().sum()}\")\n",
    "df_train = df_train.dropna()\n",
    "df_train = df_train.drop_duplicates(subset='text').reset_index(drop=True)\n",
    "print(f\"Nan Values before removal {df_train.isna().sum().sum()}, Duplicate Values after removal {df_train['text'].duplicated().sum()})\")"
   ]
  },
  {
   "cell_type": "code",
   "execution_count": null,
   "metadata": {
    "colab": {
     "base_uri": "https://localhost:8080/",
     "height": 209
    },
    "id": "dMdghSffvLZ2",
    "outputId": "630b7744-34f3-417b-88db-0734cf9e29f0"
   },
   "outputs": [
    {
     "data": {
      "text/html": [
       "<div>\n",
       "<style scoped>\n",
       "    .dataframe tbody tr th:only-of-type {\n",
       "        vertical-align: middle;\n",
       "    }\n",
       "\n",
       "    .dataframe tbody tr th {\n",
       "        vertical-align: top;\n",
       "    }\n",
       "\n",
       "    .dataframe thead th {\n",
       "        text-align: right;\n",
       "    }\n",
       "</style>\n",
       "<table border=\"1\" class=\"dataframe\">\n",
       "  <thead>\n",
       "    <tr style=\"text-align: right;\">\n",
       "      <th></th>\n",
       "      <th>count</th>\n",
       "    </tr>\n",
       "    <tr>\n",
       "      <th>category</th>\n",
       "      <th></th>\n",
       "    </tr>\n",
       "  </thead>\n",
       "  <tbody>\n",
       "    <tr>\n",
       "      <th>1.0</th>\n",
       "      <td>68228</td>\n",
       "    </tr>\n",
       "    <tr>\n",
       "      <th>0.0</th>\n",
       "      <td>52317</td>\n",
       "    </tr>\n",
       "    <tr>\n",
       "      <th>-1.0</th>\n",
       "      <td>33732</td>\n",
       "    </tr>\n",
       "  </tbody>\n",
       "</table>\n",
       "</div><br><label><b>dtype:</b> int64</label>"
      ],
      "text/plain": [
       "category\n",
       " 1.0    68228\n",
       " 0.0    52317\n",
       "-1.0    33732\n",
       "Name: count, dtype: int64"
      ]
     },
     "execution_count": 69,
     "metadata": {},
     "output_type": "execute_result"
    }
   ],
   "source": [
    "df_train.value_counts('category')"
   ]
  },
  {
   "cell_type": "markdown",
   "metadata": {
    "id": "2Rxi95HW2Waj"
   },
   "source": [
    "## URL Removal"
   ]
  },
  {
   "cell_type": "code",
   "execution_count": null,
   "metadata": {
    "colab": {
     "base_uri": "https://localhost:8080/"
    },
    "id": "yYxWxbH9usEz",
    "outputId": "4eec3545-37bb-41a2-e98f-f4b6790cac78"
   },
   "outputs": [
    {
     "name": "stderr",
     "output_type": "stream",
     "text": [
      "<ipython-input-70-13356d34ae56>:9: FutureWarning: A value is trying to be set on a copy of a DataFrame or Series through chained assignment using an inplace method.\n",
      "The behavior will change in pandas 3.0. This inplace method will never work because the intermediate object on which we are setting values always behaves as a copy.\n",
      "\n",
      "For example, when doing 'df[col].method(value, inplace=True)', try using 'df.method({col: value}, inplace=True)' or df[col] = df[col].method(value) instead, to perform the operation inplace on the original object.\n",
      "\n",
      "\n",
      "  df_test['text'].fillna('', inplace=True)\n"
     ]
    },
    {
     "name": "stdout",
     "output_type": "stream",
     "text": [
      "36\n"
     ]
    }
   ],
   "source": [
    "url_count = 0\n",
    "\n",
    "regex_tokenizer = RegexpTokenizer('/', gaps = True)\n",
    "def join_and_split(words):\n",
    "   return ((\" \").join(words)).split()\n",
    "\n",
    "df_train['text'] = df_train['text'].apply(regex_tokenizer.tokenize)\n",
    "df_train['text'] = df_train['text'].apply(join_and_split)\n",
    "# df_test['text'].fillna('', inplace=True)\n",
    "# df_test['text'] = df_test['text'].apply(regex_tokenizer.tokenize)\n",
    "# df_test['text'] = df_test['text'].apply(join_and_split)\n",
    "\n",
    "def get_words_from_urls(words):\n",
    "    global url_count\n",
    "    clean_sentence = \"\"\n",
    "    for word in words:\n",
    "        if word[:4] == 'http' or word[:3] == 'www':\n",
    "          url_count += 1\n",
    "          continue\n",
    "        clean_sentence += word + \" \"\n",
    "    return clean_sentence\n",
    "\n",
    "df_train['text'] = df_train['text'].apply(get_words_from_urls)\n",
    "# df_test['text'] = df_test['text'].apply(get_words_from_urls)\n",
    "print(url_count)"
   ]
  },
  {
   "cell_type": "markdown",
   "metadata": {
    "id": "lnY7lMbn2dYN"
   },
   "source": [
    "## Expanding contractions"
   ]
  },
  {
   "cell_type": "code",
   "execution_count": null,
   "metadata": {
    "id": "K-62trW7qaLo"
   },
   "outputs": [],
   "source": [
    "df_train['text'] = df_train['text'].apply(contractions.fix)\n",
    "# df_test['text'] = df_test['text'].apply(contractions.fix)"
   ]
  },
  {
   "cell_type": "markdown",
   "metadata": {
    "id": "dOVhn0z12g1Z"
   },
   "source": [
    "## Lemmatization"
   ]
  },
  {
   "cell_type": "code",
   "execution_count": null,
   "metadata": {
    "colab": {
     "base_uri": "https://localhost:8080/"
    },
    "id": "j9wMp5TE4TfC",
    "outputId": "fef077d5-62bb-418e-e70d-ee4b28b8fed9"
   },
   "outputs": [
    {
     "name": "stderr",
     "output_type": "stream",
     "text": [
      "[nltk_data] Downloading package punkt_tab to /root/nltk_data...\n",
      "[nltk_data]   Package punkt_tab is already up-to-date!\n"
     ]
    }
   ],
   "source": [
    "nltk.download('punkt_tab')\n",
    "\n",
    "lemmatizer = WordNetLemmatizer()\n",
    "\n",
    "# we do not convert the sentences to lowercase, because lowercase and uppercase words might have different connotations\n",
    "def lemmatize_sentence(tokenized_list):\n",
    "    lemmatized_list = [lemmatizer.lemmatize(word) if len(word) > 4 else word for word in tokenized_list]\n",
    "    lemmatized_s = ' '.join([str(word) for word in lemmatized_list])\n",
    "    return lemmatized_s\n",
    "\n",
    "df_train['text'] = df_train['text'].apply(word_tokenize)\n",
    "df_train['text'] = df_train['text'].apply(lemmatize_sentence)\n",
    "\n",
    "# df_test['text'] = df_test['text'].apply(word_tokenize)\n",
    "# df_test['text'] = df_test['text'].apply(lemmatize_sentence)"
   ]
  },
  {
   "cell_type": "markdown",
   "metadata": {
    "id": "C26rovob2lD5"
   },
   "source": [
    "## Removing Punctuation"
   ]
  },
  {
   "cell_type": "code",
   "execution_count": null,
   "metadata": {
    "id": "3YasaW_KIZqM"
   },
   "outputs": [],
   "source": [
    "df_train['text'] = df_train['text'].str.strip()\n",
    "df_train['text'] = df_train['text'].apply(lambda x : re.sub('[^a-zA-Z ?!]+', '', x))\n",
    "df_train['text'] = df_train['text'].str.replace(r'\\s+', ' ', regex=True)\n",
    "# df_test['text'] = df_test['text'].str.strip()\n",
    "# df_test['text'] = df_test['text'].apply(lambda x : re.sub('[^a-zA-Z ?!]+', '', x))\n",
    "# df_test['text'] = df_test['text'].str.replace(r'\\s+', ' ', regex=True)"
   ]
  },
  {
   "cell_type": "markdown",
   "metadata": {
    "id": "BN5bVXs_vLZ4"
   },
   "source": [
    "## Removing Duplicates"
   ]
  },
  {
   "cell_type": "code",
   "execution_count": null,
   "metadata": {
    "id": "HvxDmUCUvLZ5"
   },
   "outputs": [],
   "source": [
    "df_train = df_train.drop_duplicates(subset='text').reset_index(drop=True)"
   ]
  },
  {
   "cell_type": "markdown",
   "metadata": {
    "id": "1El_rXx2vLZ5"
   },
   "source": [
    "## Vectorization"
   ]
  },
  {
   "cell_type": "code",
   "execution_count": null,
   "metadata": {
    "colab": {
     "base_uri": "https://localhost:8080/",
     "height": 241
    },
    "id": "XUdf2wD7vLZ5",
    "outputId": "022f3042-ad00-426a-d9d2-736b71dc24c8"
   },
   "outputs": [
    {
     "data": {
      "text/html": [
       "<div>\n",
       "<style scoped>\n",
       "    .dataframe tbody tr th:only-of-type {\n",
       "        vertical-align: middle;\n",
       "    }\n",
       "\n",
       "    .dataframe tbody tr th {\n",
       "        vertical-align: top;\n",
       "    }\n",
       "\n",
       "    .dataframe thead th {\n",
       "        text-align: right;\n",
       "    }\n",
       "</style>\n",
       "<table border=\"1\" class=\"dataframe\">\n",
       "  <thead>\n",
       "    <tr style=\"text-align: right;\">\n",
       "      <th></th>\n",
       "      <th>text</th>\n",
       "    </tr>\n",
       "  </thead>\n",
       "  <tbody>\n",
       "    <tr>\n",
       "      <th>0</th>\n",
       "      <td>when modi promised minimum government maximum ...</td>\n",
       "    </tr>\n",
       "    <tr>\n",
       "      <th>1</th>\n",
       "      <td>talk all the nonsense and continue all the dra...</td>\n",
       "    </tr>\n",
       "    <tr>\n",
       "      <th>2</th>\n",
       "      <td>what did just say vote for modi welcome bjp to...</td>\n",
       "    </tr>\n",
       "    <tr>\n",
       "      <th>3</th>\n",
       "      <td>asking his supporter prefix chowkidar their na...</td>\n",
       "    </tr>\n",
       "    <tr>\n",
       "      <th>4</th>\n",
       "      <td>answer who among these the most powerful world...</td>\n",
       "    </tr>\n",
       "  </tbody>\n",
       "</table>\n",
       "</div><br><label><b>dtype:</b> object</label>"
      ],
      "text/plain": [
       "0    when modi promised minimum government maximum ...\n",
       "1    talk all the nonsense and continue all the dra...\n",
       "2    what did just say vote for modi welcome bjp to...\n",
       "3    asking his supporter prefix chowkidar their na...\n",
       "4    answer who among these the most powerful world...\n",
       "Name: text, dtype: object"
      ]
     },
     "execution_count": 75,
     "metadata": {},
     "output_type": "execute_result"
    }
   ],
   "source": [
    "train_comments = df_train[\"text\"]\n",
    "# test_comments = df_test[\"text\"]\n",
    "\n",
    "all_comments = pd.concat([train_comments])\n",
    "\n",
    "all_comments.shape\n",
    "all_comments.head()"
   ]
  },
  {
   "cell_type": "code",
   "execution_count": null,
   "metadata": {
    "id": "uQ-kLADB4fn9"
   },
   "outputs": [],
   "source": [
    "mf = 30000\n",
    "\n",
    "vectorizer = TfidfVectorizer(sublinear_tf = True,\n",
    "                             strip_accents = 'unicode',\n",
    "                             analyzer = 'word',\n",
    "                             token_pattern = '(?u)\\\\b\\\\w\\\\w+\\\\b\\\\w{,1}',\n",
    "                             lowercase = True,\n",
    "                             stop_words = 'english',\n",
    "                             ngram_range = (1, 3),\n",
    "                             min_df = 2,\n",
    "                             max_df = 0.6,\n",
    "                             norm = 'l2',\n",
    "                             max_features = int((3/5)*mf)\n",
    "                             )\n",
    "vectorizer.fit(all_comments)\n",
    "train_word_features = vectorizer.transform(train_comments)\n",
    "# test_word_features = vectorizer.transform(test_comments)\n",
    "\n",
    "char_vectorizer = TfidfVectorizer (sublinear_tf = True,\n",
    "                                   strip_accents = 'unicode',\n",
    "                                   analyzer = 'char',\n",
    "                                   ngram_range = (2, 6),\n",
    "                                   min_df = 2,\n",
    "                                   max_df = 0.6,\n",
    "                                   max_features = int((2/5)*mf)\n",
    "                                   )\n",
    "char_vectorizer.fit(all_comments)\n",
    "train_char_features = char_vectorizer.transform(train_comments)\n",
    "# test_char_features = char_vectorizer.transform(test_comments)\n",
    "\n",
    "train_features = hstack([train_word_features, train_char_features])\n",
    "# test_features = hstack([test_word_features, test_char_features])"
   ]
  },
  {
   "cell_type": "markdown",
   "metadata": {
    "id": "mrY1fEdivLZ6"
   },
   "source": [
    "## Feature Engineering and One Hot Encoding"
   ]
  },
  {
   "cell_type": "code",
   "execution_count": null,
   "metadata": {
    "id": "iCPH9Na_vLZ6"
   },
   "outputs": [],
   "source": [
    "df_train['word_count'] = df_train['text'].apply(lambda x: len(str(x).split(\" \")))\n",
    "# df_test['word_count'] = df_test['text'].apply(lambda x: len(str(x).split(\" \")))"
   ]
  },
  {
   "cell_type": "markdown",
   "metadata": {
    "id": "6nVACHO9vLZ6"
   },
   "source": [
    "# Train Test Split"
   ]
  },
  {
   "cell_type": "code",
   "execution_count": null,
   "metadata": {
    "colab": {
     "base_uri": "https://localhost:8080/"
    },
    "id": "A2SoUMZ_vLZ6",
    "outputId": "0dedbfb3-555d-4ac3-e6b1-d1fd8b6b0a1c"
   },
   "outputs": [
    {
     "data": {
      "text/plain": [
       "<121124x30001 sparse matrix of type '<class 'numpy.float64'>'\n",
       "\twith 40775865 stored elements in Compressed Sparse Row format>"
      ]
     },
     "execution_count": 78,
     "metadata": {},
     "output_type": "execute_result"
    }
   ],
   "source": [
    "from scipy.sparse import csr_matrix, hstack\n",
    "\n",
    "word_count_array = df_train['word_count'].to_numpy()\n",
    "word_count_array = word_count_array.reshape(-1, 1)\n",
    "word_count_sparse = csr_matrix(word_count_array)\n",
    "\n",
    "X = hstack([train_features, word_count_sparse])\n",
    "y = df_train['category']\n",
    "\n",
    "\n",
    "# word_count_array = df_test['word_count'].to_numpy()\n",
    "# word_count_array = word_count_array.reshape(-1, 1)\n",
    "# word_count_sparse = csr_matrix(word_count_array)\n",
    "\n",
    "# X_test = hstack([test_features, word_count_sparse])\n",
    "\n",
    "X_train, X_test, y_train, y_test = train_test_split(\n",
    "    X, y, test_size=0.2, random_state=3)\n",
    "X_train"
   ]
  },
  {
   "cell_type": "markdown",
   "metadata": {
    "id": "tPvA1C8GvLZ6"
   },
   "source": [
    "# Training"
   ]
  },
  {
   "cell_type": "markdown",
   "metadata": {
    "id": "YKC_jcJEvLZ6"
   },
   "source": [
    "## Ridge Classifier"
   ]
  },
  {
   "cell_type": "code",
   "execution_count": null,
   "metadata": {
    "id": "W_EVctZ_vLZ7"
   },
   "outputs": [],
   "source": [
    "# from sklearn.linear_model import RidgeClassifier\n",
    "# clf = RidgeClassifier().fit(X_train, y_train)\n",
    "\n",
    "# print(f\"Training Accuracy : {clf.score(X_train, y_train)}\")\n",
    "# print(f\"Validation Accuracy : {clf.score(X_test, y_test)}\")"
   ]
  },
  {
   "cell_type": "code",
   "execution_count": null,
   "metadata": {
    "id": "qUtj7y8fvLZ7"
   },
   "outputs": [],
   "source": [
    "# from sklearn.naive_bayes import GaussianNB\n",
    "# clf = GaussianNB()\n",
    "# y_pred = clf.fit(X_train.toarray(), y_train)\n",
    "\n",
    "# print(f\"Training Accuracy : {clf.score(X_train.toarray(), y_train)}\")\n",
    "# print(f\"Validation Accuracy : {clf.score(X_test.toarray(), y_test)}\")"
   ]
  },
  {
   "cell_type": "code",
   "execution_count": null,
   "metadata": {
    "id": "-1ah2rO-0a9v"
   },
   "outputs": [],
   "source": [
    "# replace -1 with 2\n",
    "\n",
    "y_train[y_train==-1] = 2\n",
    "y_test[y_test==-1] = 2"
   ]
  },
  {
   "cell_type": "code",
   "execution_count": null,
   "metadata": {
    "id": "MGU3tUfXvLZ7"
   },
   "outputs": [],
   "source": [
    "# !pip install xgboost\n",
    "# import xgboost as xgb\n",
    "# from sklearn.metrics import roc_auc_score\n",
    "\n",
    "# model = xgb.XGBClassifier(tree_method='hist',device='cuda')\n",
    "# model.fit(X_train, y_train)\n",
    "\n",
    "# print(f\"Training Accuracy : {model.score(X_train, y_train)}\")\n",
    "# print(f\"Validation Accuracy : {model.score(X_test, y_test)}\")"
   ]
  },
  {
   "cell_type": "code",
   "execution_count": null,
   "metadata": {
    "colab": {
     "base_uri": "https://localhost:8080/",
     "height": 277
    },
    "id": "RHsalUY99Zhy",
    "outputId": "aa0277ec-cba8-4e83-a27c-6e76e08e289f"
   },
   "outputs": [
    {
     "data": {
      "text/html": [
       "<style>#sk-container-id-2 {\n",
       "  /* Definition of color scheme common for light and dark mode */\n",
       "  --sklearn-color-text: black;\n",
       "  --sklearn-color-line: gray;\n",
       "  /* Definition of color scheme for unfitted estimators */\n",
       "  --sklearn-color-unfitted-level-0: #fff5e6;\n",
       "  --sklearn-color-unfitted-level-1: #f6e4d2;\n",
       "  --sklearn-color-unfitted-level-2: #ffe0b3;\n",
       "  --sklearn-color-unfitted-level-3: chocolate;\n",
       "  /* Definition of color scheme for fitted estimators */\n",
       "  --sklearn-color-fitted-level-0: #f0f8ff;\n",
       "  --sklearn-color-fitted-level-1: #d4ebff;\n",
       "  --sklearn-color-fitted-level-2: #b3dbfd;\n",
       "  --sklearn-color-fitted-level-3: cornflowerblue;\n",
       "\n",
       "  /* Specific color for light theme */\n",
       "  --sklearn-color-text-on-default-background: var(--sg-text-color, var(--theme-code-foreground, var(--jp-content-font-color1, black)));\n",
       "  --sklearn-color-background: var(--sg-background-color, var(--theme-background, var(--jp-layout-color0, white)));\n",
       "  --sklearn-color-border-box: var(--sg-text-color, var(--theme-code-foreground, var(--jp-content-font-color1, black)));\n",
       "  --sklearn-color-icon: #696969;\n",
       "\n",
       "  @media (prefers-color-scheme: dark) {\n",
       "    /* Redefinition of color scheme for dark theme */\n",
       "    --sklearn-color-text-on-default-background: var(--sg-text-color, var(--theme-code-foreground, var(--jp-content-font-color1, white)));\n",
       "    --sklearn-color-background: var(--sg-background-color, var(--theme-background, var(--jp-layout-color0, #111)));\n",
       "    --sklearn-color-border-box: var(--sg-text-color, var(--theme-code-foreground, var(--jp-content-font-color1, white)));\n",
       "    --sklearn-color-icon: #878787;\n",
       "  }\n",
       "}\n",
       "\n",
       "#sk-container-id-2 {\n",
       "  color: var(--sklearn-color-text);\n",
       "}\n",
       "\n",
       "#sk-container-id-2 pre {\n",
       "  padding: 0;\n",
       "}\n",
       "\n",
       "#sk-container-id-2 input.sk-hidden--visually {\n",
       "  border: 0;\n",
       "  clip: rect(1px 1px 1px 1px);\n",
       "  clip: rect(1px, 1px, 1px, 1px);\n",
       "  height: 1px;\n",
       "  margin: -1px;\n",
       "  overflow: hidden;\n",
       "  padding: 0;\n",
       "  position: absolute;\n",
       "  width: 1px;\n",
       "}\n",
       "\n",
       "#sk-container-id-2 div.sk-dashed-wrapped {\n",
       "  border: 1px dashed var(--sklearn-color-line);\n",
       "  margin: 0 0.4em 0.5em 0.4em;\n",
       "  box-sizing: border-box;\n",
       "  padding-bottom: 0.4em;\n",
       "  background-color: var(--sklearn-color-background);\n",
       "}\n",
       "\n",
       "#sk-container-id-2 div.sk-container {\n",
       "  /* jupyter's `normalize.less` sets `[hidden] { display: none; }`\n",
       "     but bootstrap.min.css set `[hidden] { display: none !important; }`\n",
       "     so we also need the `!important` here to be able to override the\n",
       "     default hidden behavior on the sphinx rendered scikit-learn.org.\n",
       "     See: https://github.com/scikit-learn/scikit-learn/issues/21755 */\n",
       "  display: inline-block !important;\n",
       "  position: relative;\n",
       "}\n",
       "\n",
       "#sk-container-id-2 div.sk-text-repr-fallback {\n",
       "  display: none;\n",
       "}\n",
       "\n",
       "div.sk-parallel-item,\n",
       "div.sk-serial,\n",
       "div.sk-item {\n",
       "  /* draw centered vertical line to link estimators */\n",
       "  background-image: linear-gradient(var(--sklearn-color-text-on-default-background), var(--sklearn-color-text-on-default-background));\n",
       "  background-size: 2px 100%;\n",
       "  background-repeat: no-repeat;\n",
       "  background-position: center center;\n",
       "}\n",
       "\n",
       "/* Parallel-specific style estimator block */\n",
       "\n",
       "#sk-container-id-2 div.sk-parallel-item::after {\n",
       "  content: \"\";\n",
       "  width: 100%;\n",
       "  border-bottom: 2px solid var(--sklearn-color-text-on-default-background);\n",
       "  flex-grow: 1;\n",
       "}\n",
       "\n",
       "#sk-container-id-2 div.sk-parallel {\n",
       "  display: flex;\n",
       "  align-items: stretch;\n",
       "  justify-content: center;\n",
       "  background-color: var(--sklearn-color-background);\n",
       "  position: relative;\n",
       "}\n",
       "\n",
       "#sk-container-id-2 div.sk-parallel-item {\n",
       "  display: flex;\n",
       "  flex-direction: column;\n",
       "}\n",
       "\n",
       "#sk-container-id-2 div.sk-parallel-item:first-child::after {\n",
       "  align-self: flex-end;\n",
       "  width: 50%;\n",
       "}\n",
       "\n",
       "#sk-container-id-2 div.sk-parallel-item:last-child::after {\n",
       "  align-self: flex-start;\n",
       "  width: 50%;\n",
       "}\n",
       "\n",
       "#sk-container-id-2 div.sk-parallel-item:only-child::after {\n",
       "  width: 0;\n",
       "}\n",
       "\n",
       "/* Serial-specific style estimator block */\n",
       "\n",
       "#sk-container-id-2 div.sk-serial {\n",
       "  display: flex;\n",
       "  flex-direction: column;\n",
       "  align-items: center;\n",
       "  background-color: var(--sklearn-color-background);\n",
       "  padding-right: 1em;\n",
       "  padding-left: 1em;\n",
       "}\n",
       "\n",
       "\n",
       "/* Toggleable style: style used for estimator/Pipeline/ColumnTransformer box that is\n",
       "clickable and can be expanded/collapsed.\n",
       "- Pipeline and ColumnTransformer use this feature and define the default style\n",
       "- Estimators will overwrite some part of the style using the `sk-estimator` class\n",
       "*/\n",
       "\n",
       "/* Pipeline and ColumnTransformer style (default) */\n",
       "\n",
       "#sk-container-id-2 div.sk-toggleable {\n",
       "  /* Default theme specific background. It is overwritten whether we have a\n",
       "  specific estimator or a Pipeline/ColumnTransformer */\n",
       "  background-color: var(--sklearn-color-background);\n",
       "}\n",
       "\n",
       "/* Toggleable label */\n",
       "#sk-container-id-2 label.sk-toggleable__label {\n",
       "  cursor: pointer;\n",
       "  display: block;\n",
       "  width: 100%;\n",
       "  margin-bottom: 0;\n",
       "  padding: 0.5em;\n",
       "  box-sizing: border-box;\n",
       "  text-align: center;\n",
       "}\n",
       "\n",
       "#sk-container-id-2 label.sk-toggleable__label-arrow:before {\n",
       "  /* Arrow on the left of the label */\n",
       "  content: \"▸\";\n",
       "  float: left;\n",
       "  margin-right: 0.25em;\n",
       "  color: var(--sklearn-color-icon);\n",
       "}\n",
       "\n",
       "#sk-container-id-2 label.sk-toggleable__label-arrow:hover:before {\n",
       "  color: var(--sklearn-color-text);\n",
       "}\n",
       "\n",
       "/* Toggleable content - dropdown */\n",
       "\n",
       "#sk-container-id-2 div.sk-toggleable__content {\n",
       "  max-height: 0;\n",
       "  max-width: 0;\n",
       "  overflow: hidden;\n",
       "  text-align: left;\n",
       "  /* unfitted */\n",
       "  background-color: var(--sklearn-color-unfitted-level-0);\n",
       "}\n",
       "\n",
       "#sk-container-id-2 div.sk-toggleable__content.fitted {\n",
       "  /* fitted */\n",
       "  background-color: var(--sklearn-color-fitted-level-0);\n",
       "}\n",
       "\n",
       "#sk-container-id-2 div.sk-toggleable__content pre {\n",
       "  margin: 0.2em;\n",
       "  border-radius: 0.25em;\n",
       "  color: var(--sklearn-color-text);\n",
       "  /* unfitted */\n",
       "  background-color: var(--sklearn-color-unfitted-level-0);\n",
       "}\n",
       "\n",
       "#sk-container-id-2 div.sk-toggleable__content.fitted pre {\n",
       "  /* unfitted */\n",
       "  background-color: var(--sklearn-color-fitted-level-0);\n",
       "}\n",
       "\n",
       "#sk-container-id-2 input.sk-toggleable__control:checked~div.sk-toggleable__content {\n",
       "  /* Expand drop-down */\n",
       "  max-height: 200px;\n",
       "  max-width: 100%;\n",
       "  overflow: auto;\n",
       "}\n",
       "\n",
       "#sk-container-id-2 input.sk-toggleable__control:checked~label.sk-toggleable__label-arrow:before {\n",
       "  content: \"▾\";\n",
       "}\n",
       "\n",
       "/* Pipeline/ColumnTransformer-specific style */\n",
       "\n",
       "#sk-container-id-2 div.sk-label input.sk-toggleable__control:checked~label.sk-toggleable__label {\n",
       "  color: var(--sklearn-color-text);\n",
       "  background-color: var(--sklearn-color-unfitted-level-2);\n",
       "}\n",
       "\n",
       "#sk-container-id-2 div.sk-label.fitted input.sk-toggleable__control:checked~label.sk-toggleable__label {\n",
       "  background-color: var(--sklearn-color-fitted-level-2);\n",
       "}\n",
       "\n",
       "/* Estimator-specific style */\n",
       "\n",
       "/* Colorize estimator box */\n",
       "#sk-container-id-2 div.sk-estimator input.sk-toggleable__control:checked~label.sk-toggleable__label {\n",
       "  /* unfitted */\n",
       "  background-color: var(--sklearn-color-unfitted-level-2);\n",
       "}\n",
       "\n",
       "#sk-container-id-2 div.sk-estimator.fitted input.sk-toggleable__control:checked~label.sk-toggleable__label {\n",
       "  /* fitted */\n",
       "  background-color: var(--sklearn-color-fitted-level-2);\n",
       "}\n",
       "\n",
       "#sk-container-id-2 div.sk-label label.sk-toggleable__label,\n",
       "#sk-container-id-2 div.sk-label label {\n",
       "  /* The background is the default theme color */\n",
       "  color: var(--sklearn-color-text-on-default-background);\n",
       "}\n",
       "\n",
       "/* On hover, darken the color of the background */\n",
       "#sk-container-id-2 div.sk-label:hover label.sk-toggleable__label {\n",
       "  color: var(--sklearn-color-text);\n",
       "  background-color: var(--sklearn-color-unfitted-level-2);\n",
       "}\n",
       "\n",
       "/* Label box, darken color on hover, fitted */\n",
       "#sk-container-id-2 div.sk-label.fitted:hover label.sk-toggleable__label.fitted {\n",
       "  color: var(--sklearn-color-text);\n",
       "  background-color: var(--sklearn-color-fitted-level-2);\n",
       "}\n",
       "\n",
       "/* Estimator label */\n",
       "\n",
       "#sk-container-id-2 div.sk-label label {\n",
       "  font-family: monospace;\n",
       "  font-weight: bold;\n",
       "  display: inline-block;\n",
       "  line-height: 1.2em;\n",
       "}\n",
       "\n",
       "#sk-container-id-2 div.sk-label-container {\n",
       "  text-align: center;\n",
       "}\n",
       "\n",
       "/* Estimator-specific */\n",
       "#sk-container-id-2 div.sk-estimator {\n",
       "  font-family: monospace;\n",
       "  border: 1px dotted var(--sklearn-color-border-box);\n",
       "  border-radius: 0.25em;\n",
       "  box-sizing: border-box;\n",
       "  margin-bottom: 0.5em;\n",
       "  /* unfitted */\n",
       "  background-color: var(--sklearn-color-unfitted-level-0);\n",
       "}\n",
       "\n",
       "#sk-container-id-2 div.sk-estimator.fitted {\n",
       "  /* fitted */\n",
       "  background-color: var(--sklearn-color-fitted-level-0);\n",
       "}\n",
       "\n",
       "/* on hover */\n",
       "#sk-container-id-2 div.sk-estimator:hover {\n",
       "  /* unfitted */\n",
       "  background-color: var(--sklearn-color-unfitted-level-2);\n",
       "}\n",
       "\n",
       "#sk-container-id-2 div.sk-estimator.fitted:hover {\n",
       "  /* fitted */\n",
       "  background-color: var(--sklearn-color-fitted-level-2);\n",
       "}\n",
       "\n",
       "/* Specification for estimator info (e.g. \"i\" and \"?\") */\n",
       "\n",
       "/* Common style for \"i\" and \"?\" */\n",
       "\n",
       ".sk-estimator-doc-link,\n",
       "a:link.sk-estimator-doc-link,\n",
       "a:visited.sk-estimator-doc-link {\n",
       "  float: right;\n",
       "  font-size: smaller;\n",
       "  line-height: 1em;\n",
       "  font-family: monospace;\n",
       "  background-color: var(--sklearn-color-background);\n",
       "  border-radius: 1em;\n",
       "  height: 1em;\n",
       "  width: 1em;\n",
       "  text-decoration: none !important;\n",
       "  margin-left: 1ex;\n",
       "  /* unfitted */\n",
       "  border: var(--sklearn-color-unfitted-level-1) 1pt solid;\n",
       "  color: var(--sklearn-color-unfitted-level-1);\n",
       "}\n",
       "\n",
       ".sk-estimator-doc-link.fitted,\n",
       "a:link.sk-estimator-doc-link.fitted,\n",
       "a:visited.sk-estimator-doc-link.fitted {\n",
       "  /* fitted */\n",
       "  border: var(--sklearn-color-fitted-level-1) 1pt solid;\n",
       "  color: var(--sklearn-color-fitted-level-1);\n",
       "}\n",
       "\n",
       "/* On hover */\n",
       "div.sk-estimator:hover .sk-estimator-doc-link:hover,\n",
       ".sk-estimator-doc-link:hover,\n",
       "div.sk-label-container:hover .sk-estimator-doc-link:hover,\n",
       ".sk-estimator-doc-link:hover {\n",
       "  /* unfitted */\n",
       "  background-color: var(--sklearn-color-unfitted-level-3);\n",
       "  color: var(--sklearn-color-background);\n",
       "  text-decoration: none;\n",
       "}\n",
       "\n",
       "div.sk-estimator.fitted:hover .sk-estimator-doc-link.fitted:hover,\n",
       ".sk-estimator-doc-link.fitted:hover,\n",
       "div.sk-label-container:hover .sk-estimator-doc-link.fitted:hover,\n",
       ".sk-estimator-doc-link.fitted:hover {\n",
       "  /* fitted */\n",
       "  background-color: var(--sklearn-color-fitted-level-3);\n",
       "  color: var(--sklearn-color-background);\n",
       "  text-decoration: none;\n",
       "}\n",
       "\n",
       "/* Span, style for the box shown on hovering the info icon */\n",
       ".sk-estimator-doc-link span {\n",
       "  display: none;\n",
       "  z-index: 9999;\n",
       "  position: relative;\n",
       "  font-weight: normal;\n",
       "  right: .2ex;\n",
       "  padding: .5ex;\n",
       "  margin: .5ex;\n",
       "  width: min-content;\n",
       "  min-width: 20ex;\n",
       "  max-width: 50ex;\n",
       "  color: var(--sklearn-color-text);\n",
       "  box-shadow: 2pt 2pt 4pt #999;\n",
       "  /* unfitted */\n",
       "  background: var(--sklearn-color-unfitted-level-0);\n",
       "  border: .5pt solid var(--sklearn-color-unfitted-level-3);\n",
       "}\n",
       "\n",
       ".sk-estimator-doc-link.fitted span {\n",
       "  /* fitted */\n",
       "  background: var(--sklearn-color-fitted-level-0);\n",
       "  border: var(--sklearn-color-fitted-level-3);\n",
       "}\n",
       "\n",
       ".sk-estimator-doc-link:hover span {\n",
       "  display: block;\n",
       "}\n",
       "\n",
       "/* \"?\"-specific style due to the `<a>` HTML tag */\n",
       "\n",
       "#sk-container-id-2 a.estimator_doc_link {\n",
       "  float: right;\n",
       "  font-size: 1rem;\n",
       "  line-height: 1em;\n",
       "  font-family: monospace;\n",
       "  background-color: var(--sklearn-color-background);\n",
       "  border-radius: 1rem;\n",
       "  height: 1rem;\n",
       "  width: 1rem;\n",
       "  text-decoration: none;\n",
       "  /* unfitted */\n",
       "  color: var(--sklearn-color-unfitted-level-1);\n",
       "  border: var(--sklearn-color-unfitted-level-1) 1pt solid;\n",
       "}\n",
       "\n",
       "#sk-container-id-2 a.estimator_doc_link.fitted {\n",
       "  /* fitted */\n",
       "  border: var(--sklearn-color-fitted-level-1) 1pt solid;\n",
       "  color: var(--sklearn-color-fitted-level-1);\n",
       "}\n",
       "\n",
       "/* On hover */\n",
       "#sk-container-id-2 a.estimator_doc_link:hover {\n",
       "  /* unfitted */\n",
       "  background-color: var(--sklearn-color-unfitted-level-3);\n",
       "  color: var(--sklearn-color-background);\n",
       "  text-decoration: none;\n",
       "}\n",
       "\n",
       "#sk-container-id-2 a.estimator_doc_link.fitted:hover {\n",
       "  /* fitted */\n",
       "  background-color: var(--sklearn-color-fitted-level-3);\n",
       "}\n",
       "</style><div id=\"sk-container-id-2\" class=\"sk-top-container\"><div class=\"sk-text-repr-fallback\"><pre>XGBClassifier(alpha=0.1801118342336058, base_score=None, booster=None,\n",
       "              callbacks=None, colsample_bylevel=0.7108990821059266,\n",
       "              colsample_bynode=None, colsample_bytree=0.7733759101125599,\n",
       "              device=&#x27;cuda&#x27;, early_stopping_rounds=None,\n",
       "              enable_categorical=False, eta=0.24172217809311938,\n",
       "              eval_metric=None, feature_types=None, gamma=1.788039740353529,\n",
       "              grow_policy=&#x27;lossguide&#x27;, importance_type=None,\n",
       "              interaction_constraints=None, lambda=1.2227284430176681,\n",
       "              learning_rate=None, max_bin=None, max_cat_threshold=None,\n",
       "              max_cat_to_onehot=None, max_delta_step=1, max_depth=13,\n",
       "              max_leaves=None, min_child_weight=1.204125740865512, missing=nan,\n",
       "              monotone_constraints=None, multi_strategy=None, n_estimators=453, ...)</pre><b>In a Jupyter environment, please rerun this cell to show the HTML representation or trust the notebook. <br />On GitHub, the HTML representation is unable to render, please try loading this page with nbviewer.org.</b></div><div class=\"sk-container\" hidden><div class=\"sk-item\"><div class=\"sk-estimator fitted sk-toggleable\"><input class=\"sk-toggleable__control sk-hidden--visually\" id=\"sk-estimator-id-2\" type=\"checkbox\" checked><label for=\"sk-estimator-id-2\" class=\"sk-toggleable__label fitted sk-toggleable__label-arrow fitted\">&nbsp;XGBClassifier<span class=\"sk-estimator-doc-link fitted\">i<span>Fitted</span></span></label><div class=\"sk-toggleable__content fitted\"><pre>XGBClassifier(alpha=0.1801118342336058, base_score=None, booster=None,\n",
       "              callbacks=None, colsample_bylevel=0.7108990821059266,\n",
       "              colsample_bynode=None, colsample_bytree=0.7733759101125599,\n",
       "              device=&#x27;cuda&#x27;, early_stopping_rounds=None,\n",
       "              enable_categorical=False, eta=0.24172217809311938,\n",
       "              eval_metric=None, feature_types=None, gamma=1.788039740353529,\n",
       "              grow_policy=&#x27;lossguide&#x27;, importance_type=None,\n",
       "              interaction_constraints=None, lambda=1.2227284430176681,\n",
       "              learning_rate=None, max_bin=None, max_cat_threshold=None,\n",
       "              max_cat_to_onehot=None, max_delta_step=1, max_depth=13,\n",
       "              max_leaves=None, min_child_weight=1.204125740865512, missing=nan,\n",
       "              monotone_constraints=None, multi_strategy=None, n_estimators=453, ...)</pre></div> </div></div></div></div>"
      ],
      "text/plain": [
       "XGBClassifier(alpha=0.1801118342336058, base_score=None, booster=None,\n",
       "              callbacks=None, colsample_bylevel=0.7108990821059266,\n",
       "              colsample_bynode=None, colsample_bytree=0.7733759101125599,\n",
       "              device='cuda', early_stopping_rounds=None,\n",
       "              enable_categorical=False, eta=0.24172217809311938,\n",
       "              eval_metric=None, feature_types=None, gamma=1.788039740353529,\n",
       "              grow_policy='lossguide', importance_type=None,\n",
       "              interaction_constraints=None, lambda=1.2227284430176681,\n",
       "              learning_rate=None, max_bin=None, max_cat_threshold=None,\n",
       "              max_cat_to_onehot=None, max_delta_step=1, max_depth=13,\n",
       "              max_leaves=None, min_child_weight=1.204125740865512, missing=nan,\n",
       "              monotone_constraints=None, multi_strategy=None, n_estimators=453, ...)"
      ]
     },
     "execution_count": 83,
     "metadata": {},
     "output_type": "execute_result"
    }
   ],
   "source": [
    "import xgboost as xgb\n",
    "from sklearn.model_selection import train_test_split\n",
    "from sklearn.metrics import roc_auc_score\n",
    "\n",
    "params = {\n",
    "    \"objective\": \"multi:softprob\",\n",
    "    \"num_class\": 3,\n",
    "    \"tree_method\": \"hist\",\n",
    "    \"device\": \"cuda\",\n",
    "    'eta': 0.24172217809311938,\n",
    "    'max_depth': 13,\n",
    "    'min_child_weight': 1.204125740865512,\n",
    "    'subsample': 0.9658273955957696,\n",
    "    'colsample_bytree': 0.7733759101125599,\n",
    "    'gamma': 1.788039740353529,\n",
    "    'lambda': 1.2227284430176681,\n",
    "    'alpha': 0.1801118342336058,\n",
    "    'n_estimators': 453,\n",
    "    'colsample_bylevel': 0.7108990821059266,\n",
    "    'max_delta_step': 1,\n",
    "    'grow_policy': 'lossguide'\n",
    "}\n",
    "\n",
    "model = xgb.XGBClassifier(**params)\n",
    "model.fit(X_train, y_train)"
   ]
  },
  {
   "cell_type": "code",
   "execution_count": null,
   "metadata": {
    "colab": {
     "base_uri": "https://localhost:8080/"
    },
    "id": "gVX6K4Qpw5S_",
    "outputId": "e0aa4166-f2cc-4cdb-c359-40d05b667fdf"
   },
   "outputs": [
    {
     "name": "stdout",
     "output_type": "stream",
     "text": [
      "Metrics Summary:\n",
      "Accuracy: 0.9292\n",
      "Precision (Macro): 0.9263\n",
      "Precision (Weighted): 0.9289\n",
      "Recall (Macro): 0.9196\n",
      "Recall (Weighted): 0.9292\n",
      "F1 Score (Macro): 0.9226\n",
      "F1 Score (Weighted): 0.9288\n",
      "ROC-AUC (OVR): 0.9828\n",
      "ROC-AUC (OVO): 0.9821\n",
      "Log Loss: 0.2423\n",
      "Matthews Correlation Coefficient: 0.8898\n",
      "\n",
      "Classification Report:\n",
      "              precision    recall  f1-score   support\n",
      "\n",
      "         0.0       0.94      0.96      0.95     10233\n",
      "         1.0       0.93      0.94      0.94     13283\n",
      "         2.0       0.91      0.86      0.88      6765\n",
      "\n",
      "    accuracy                           0.93     30281\n",
      "   macro avg       0.93      0.92      0.92     30281\n",
      "weighted avg       0.93      0.93      0.93     30281\n",
      "\n",
      "\n",
      "Confusion Matrix:\n",
      "[[ 9828   269   136]\n",
      " [  326 12520   437]\n",
      " [  343   633  5789]]\n"
     ]
    }
   ],
   "source": [
    "from sklearn.metrics import (\n",
    "    accuracy_score,\n",
    "    precision_score,\n",
    "    recall_score,\n",
    "    f1_score,\n",
    "    roc_auc_score,\n",
    "    classification_report,\n",
    "    log_loss,\n",
    "    confusion_matrix,\n",
    "    matthews_corrcoef\n",
    ")\n",
    "\n",
    "y_pred = model.predict(X_test)\n",
    "y_pred_proba = model.predict_proba(X_test)\n",
    "\n",
    "metrics = {}\n",
    "metrics[\"Accuracy\"] = accuracy_score(y_test, y_pred)\n",
    "metrics[\"Precision (Macro)\"] = precision_score(y_test, y_pred, average=\"macro\")\n",
    "metrics[\"Precision (Weighted)\"] = precision_score(y_test, y_pred, average=\"weighted\")\n",
    "metrics[\"Recall (Macro)\"] = recall_score(y_test, y_pred, average=\"macro\")\n",
    "metrics[\"Recall (Weighted)\"] = recall_score(y_test, y_pred, average=\"weighted\")\n",
    "metrics[\"F1 Score (Macro)\"] = f1_score(y_test, y_pred, average=\"macro\")\n",
    "metrics[\"F1 Score (Weighted)\"] = f1_score(y_test, y_pred, average=\"weighted\")\n",
    "metrics[\"ROC-AUC (OVR)\"] = roc_auc_score(y_test, y_pred_proba, multi_class=\"ovr\")\n",
    "metrics[\"ROC-AUC (OVO)\"] = roc_auc_score(y_test, y_pred_proba, multi_class=\"ovo\")\n",
    "metrics[\"Log Loss\"] = log_loss(y_test, y_pred_proba)\n",
    "metrics[\"Matthews Correlation Coefficient\"] = matthews_corrcoef(y_test, y_pred)\n",
    "\n",
    "print(\"Metrics Summary:\")\n",
    "for metric, value in metrics.items():\n",
    "    print(f\"{metric}: {value:.4f}\")\n",
    "\n",
    "print(\"\\nClassification Report:\")\n",
    "print(classification_report(y_test, y_pred))\n",
    "\n",
    "print(\"\\nConfusion Matrix:\")\n",
    "print(confusion_matrix(y_test, y_pred))"
   ]
  },
  {
   "cell_type": "code",
   "execution_count": null,
   "metadata": {
    "id": "y-iuzlnLvzZH"
   },
   "outputs": [],
   "source": [
    "# preds = model.predict_proba(X_test)\n",
    "# print(preds)\n",
    "\n",
    "# import numpy as np\n",
    "# categorical_preds = np.argmax(preds, axis=1)\n",
    "\n",
    "# categorical_preds[categorical_preds==2] = -1"
   ]
  },
  {
   "cell_type": "code",
   "execution_count": null,
   "metadata": {
    "id": "Kcm6k6dE0v2-"
   },
   "outputs": [],
   "source": [
    "# # Get unique values and their frequencies\n",
    "# unique_values, counts = np.unique(categorical_preds, return_counts=True)\n",
    "\n",
    "# # Display results\n",
    "# print(\"Unique values:\", unique_values)\n",
    "# print(\"Frequencies:\", counts)"
   ]
  },
  {
   "cell_type": "code",
   "execution_count": null,
   "metadata": {
    "id": "DW1x3qAtwRZL"
   },
   "outputs": [],
   "source": [
    "# import pandas as pd\n",
    "# df_test = pd.read_csv(\"/content/drive/MyDrive/mis_assessment/test3.csv\")\n",
    "# df_test['category'] = categorical_preds\n",
    "\n",
    "# print(df_test)"
   ]
  },
  {
   "cell_type": "code",
   "execution_count": null,
   "metadata": {
    "id": "CRT-Vum21ibt"
   },
   "outputs": [],
   "source": [
    "# df_test.to_csv('/content/drive/MyDrive/mis_assessment/preds2.csv', index=False)\n"
   ]
  }
 ],
 "metadata": {
  "accelerator": "GPU",
  "colab": {
   "gpuType": "T4",
   "provenance": []
  },
  "kernelspec": {
   "display_name": "Python 3",
   "name": "python3"
  },
  "language_info": {
   "codemirror_mode": {
    "name": "ipython",
    "version": 3
   },
   "file_extension": ".py",
   "mimetype": "text/x-python",
   "name": "python",
   "nbconvert_exporter": "python",
   "pygments_lexer": "ipython3",
   "version": "3.12.6"
  }
 },
 "nbformat": 4,
 "nbformat_minor": 0
}
